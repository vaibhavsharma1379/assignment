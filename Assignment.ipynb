{
  "nbformat": 4,
  "nbformat_minor": 0,
  "metadata": {
    "colab": {
      "name": "Assignment.ipynb",
      "provenance": [],
      "authorship_tag": "ABX9TyMw4cDPisRX7JQ2yobx33Yn",
      "include_colab_link": true
    },
    "kernelspec": {
      "name": "python3",
      "display_name": "Python 3"
    },
    "language_info": {
      "name": "python"
    }
  },
  "cells": [
    {
      "cell_type": "markdown",
      "metadata": {
        "id": "view-in-github",
        "colab_type": "text"
      },
      "source": [
        "<a href=\"https://colab.research.google.com/github/vaibhavsharma1379/assignment/blob/main/Assignment.ipynb\" target=\"_parent\"><img src=\"https://colab.research.google.com/assets/colab-badge.svg\" alt=\"Open In Colab\"/></a>"
      ]
    },
    {
      "cell_type": "code",
      "metadata": {
        "id": "0EU7gqQLGhjq"
      },
      "source": [
        "import pandas as pd\n",
        "import requests\n",
        "import numpy as np\n",
        "from urllib.request import urlopen\n",
        "from bs4 import BeautifulSoup as bs\n",
        "import re\n"
      ],
      "execution_count": null,
      "outputs": []
    },
    {
      "cell_type": "code",
      "metadata": {
        "id": "nIwNPv_3vIKv"
      },
      "source": [
        ""
      ],
      "execution_count": null,
      "outputs": []
    },
    {
      "cell_type": "markdown",
      "metadata": {
        "id": "kO9yUl93TCMC"
      },
      "source": [
        "# **Read title of article from url**"
      ]
    },
    {
      "cell_type": "code",
      "metadata": {
        "colab": {
          "base_uri": "https://localhost:8080/"
        },
        "id": "iw0LRA4KTFOS",
        "outputId": "c59433e5-2318-417b-ccaa-120072a204f7"
      },
      "source": [
        "# importing the modules\n",
        "import requests\n",
        "from bs4 import BeautifulSoup\n",
        "  \n",
        "# target url\n",
        "url = 'https://asiasociety.org/education/ramayana'\n",
        "  \n",
        "# making requests instance\n",
        "reqs = requests.get(url)\n",
        "  \n",
        "# using the BeaitifulSoup module\n",
        "soup = BeautifulSoup(reqs.text, 'html.parser')\n",
        "  \n",
        "# displaying the title\n",
        "print(\"Title of the website is : \")\n",
        "for title in soup.find_all('title'):\n",
        "    print(title.get_text())"
      ],
      "execution_count": null,
      "outputs": [
        {
          "output_type": "stream",
          "name": "stdout",
          "text": [
            "Title of the website is : \n",
            "Ramayana | Asia Society\n",
            "Ramayana | Asia Society\n"
          ]
        }
      ]
    },
    {
      "cell_type": "markdown",
      "metadata": {
        "id": "1JN44hIRSvXq"
      },
      "source": [
        "# **Read text from web url**"
      ]
    },
    {
      "cell_type": "code",
      "metadata": {
        "id": "b106F__TS2nu"
      },
      "source": [
        "import urllib.request\n",
        "from bs4 import BeautifulSoup\n",
        "  \n",
        "# here we have to pass url and path\n",
        "# (where you want to save ur text file)\n",
        "urllib.request.urlretrieve(\"https://asiasociety.org/education/ramayana\",\n",
        "                           \"/content/text_file.txt\")\n",
        "  \n",
        "file = open(\"text_file.txt\", \"r\")\n",
        "contents = file.read()\n",
        "soup = BeautifulSoup(contents, 'html.parser')\n",
        "  \n",
        "f = open(\"test1.txt\", \"w\")\n",
        "for data in soup.find_all(\"t\"):\n",
        "    sum = data.get_text()\n",
        "    f.writelines(sum)\n",
        "  \n",
        "# traverse paragraphs from soup\n",
        "for data in soup.find_all(\"p\"):\n",
        "    sum = data.get_text()\n",
        "    f.writelines(sum)\n",
        "  \n",
        "f.close()"
      ],
      "execution_count": null,
      "outputs": []
    },
    {
      "cell_type": "markdown",
      "metadata": {
        "id": "zxZY4kiSbG78"
      },
      "source": [
        "# **sentences in article**"
      ]
    },
    {
      "cell_type": "code",
      "metadata": {
        "colab": {
          "base_uri": "https://localhost:8080/"
        },
        "id": "F4a03d53VUw1",
        "outputId": "4c2650ce-2b04-4700-878f-c7d32b0e31f4"
      },
      "source": [
        "t=open('/content/test1.txt')\n",
        "txt=t.read()\n",
        "sentences_lst=txt.split('. ')\n",
        "sen_dict={}\n",
        "sen_dict['sentences']=sentences_lst\n",
        "df=pd.DataFrame(sen_dict)\n",
        "totel_sentence=df['sentences'].count()\n",
        "totel_sentence\n"
      ],
      "execution_count": null,
      "outputs": [
        {
          "output_type": "execute_result",
          "data": {
            "text/plain": [
              "40"
            ]
          },
          "metadata": {},
          "execution_count": 112
        }
      ]
    },
    {
      "cell_type": "markdown",
      "metadata": {
        "id": "CL9R4SOqdLr0"
      },
      "source": [
        "# **total no of words in article**"
      ]
    },
    {
      "cell_type": "code",
      "metadata": {
        "id": "aNz0xUVJSusj",
        "colab": {
          "base_uri": "https://localhost:8080/"
        },
        "outputId": "56f65a10-ff1e-4947-ca60-1f35dc453240"
      },
      "source": [
        "# txt1=re.sub(r\"[^a-zA-Z0-9]+\", ' ',txt)\n",
        "words_lst=txt.split(' ')\n",
        "word_dict={}\n",
        "word_dict['words']=words_lst\n",
        "df1=pd.DataFrame(word_dict)\n",
        "df1['words']=df1['words'].str.replace('.','')\n",
        "df1['words']=df1['words'].str.replace(',','')\n",
        "# convert words into lowrcase\n",
        "df1=df1.applymap(lambda s:s.lower() if type(s)== str else s)\n",
        "aw=df1.copy()\n",
        "totel_words=df1['words'].count()\n",
        "totel_words\n"
      ],
      "execution_count": null,
      "outputs": [
        {
          "output_type": "execute_result",
          "data": {
            "text/plain": [
              "873"
            ]
          },
          "metadata": {},
          "execution_count": 130
        }
      ]
    },
    {
      "cell_type": "code",
      "metadata": {
        "colab": {
          "base_uri": "https://localhost:8080/",
          "height": 417
        },
        "id": "Ibx0aR5xGv9j",
        "outputId": "675e2501-31cf-4532-dd7a-1258d1628be2"
      },
      "source": [
        "sw=pd.read_csv('/content/StopWords_GenericLong.txt')\n",
        "sw"
      ],
      "execution_count": null,
      "outputs": [
        {
          "output_type": "execute_result",
          "data": {
            "text/html": [
              "<div>\n",
              "<style scoped>\n",
              "    .dataframe tbody tr th:only-of-type {\n",
              "        vertical-align: middle;\n",
              "    }\n",
              "\n",
              "    .dataframe tbody tr th {\n",
              "        vertical-align: top;\n",
              "    }\n",
              "\n",
              "    .dataframe thead th {\n",
              "        text-align: right;\n",
              "    }\n",
              "</style>\n",
              "<table border=\"1\" class=\"dataframe\">\n",
              "  <thead>\n",
              "    <tr style=\"text-align: right;\">\n",
              "      <th></th>\n",
              "      <th>a</th>\n",
              "    </tr>\n",
              "  </thead>\n",
              "  <tbody>\n",
              "    <tr>\n",
              "      <th>0</th>\n",
              "      <td>a's</td>\n",
              "    </tr>\n",
              "    <tr>\n",
              "      <th>1</th>\n",
              "      <td>able</td>\n",
              "    </tr>\n",
              "    <tr>\n",
              "      <th>2</th>\n",
              "      <td>about</td>\n",
              "    </tr>\n",
              "    <tr>\n",
              "      <th>3</th>\n",
              "      <td>above</td>\n",
              "    </tr>\n",
              "    <tr>\n",
              "      <th>4</th>\n",
              "      <td>according</td>\n",
              "    </tr>\n",
              "    <tr>\n",
              "      <th>...</th>\n",
              "      <td>...</td>\n",
              "    </tr>\n",
              "    <tr>\n",
              "      <th>565</th>\n",
              "      <td>yours</td>\n",
              "    </tr>\n",
              "    <tr>\n",
              "      <th>566</th>\n",
              "      <td>yourself</td>\n",
              "    </tr>\n",
              "    <tr>\n",
              "      <th>567</th>\n",
              "      <td>yourselves</td>\n",
              "    </tr>\n",
              "    <tr>\n",
              "      <th>568</th>\n",
              "      <td>z</td>\n",
              "    </tr>\n",
              "    <tr>\n",
              "      <th>569</th>\n",
              "      <td>zero</td>\n",
              "    </tr>\n",
              "  </tbody>\n",
              "</table>\n",
              "<p>570 rows × 1 columns</p>\n",
              "</div>"
            ],
            "text/plain": [
              "              a\n",
              "0           a's\n",
              "1          able\n",
              "2         about\n",
              "3         above\n",
              "4     according\n",
              "..          ...\n",
              "565       yours\n",
              "566    yourself\n",
              "567  yourselves\n",
              "568           z\n",
              "569        zero\n",
              "\n",
              "[570 rows x 1 columns]"
            ]
          },
          "metadata": {},
          "execution_count": 114
        }
      ]
    },
    {
      "cell_type": "code",
      "metadata": {
        "colab": {
          "base_uri": "https://localhost:8080/",
          "height": 417
        },
        "id": "_8SDc2GCMjm9",
        "outputId": "95c3d26d-0f35-4e20-a12e-7567033a6eaa"
      },
      "source": [
        "df1"
      ],
      "execution_count": null,
      "outputs": [
        {
          "output_type": "execute_result",
          "data": {
            "text/html": [
              "<div>\n",
              "<style scoped>\n",
              "    .dataframe tbody tr th:only-of-type {\n",
              "        vertical-align: middle;\n",
              "    }\n",
              "\n",
              "    .dataframe tbody tr th {\n",
              "        vertical-align: top;\n",
              "    }\n",
              "\n",
              "    .dataframe thead th {\n",
              "        text-align: right;\n",
              "    }\n",
              "</style>\n",
              "<table border=\"1\" class=\"dataframe\">\n",
              "  <thead>\n",
              "    <tr style=\"text-align: right;\">\n",
              "      <th></th>\n",
              "      <th>words</th>\n",
              "    </tr>\n",
              "  </thead>\n",
              "  <tbody>\n",
              "    <tr>\n",
              "      <th>0</th>\n",
              "      <td>it</td>\n",
              "    </tr>\n",
              "    <tr>\n",
              "      <th>1</th>\n",
              "      <td>seems</td>\n",
              "    </tr>\n",
              "    <tr>\n",
              "      <th>2</th>\n",
              "      <td>the</td>\n",
              "    </tr>\n",
              "    <tr>\n",
              "      <th>3</th>\n",
              "      <td>web</td>\n",
              "    </tr>\n",
              "    <tr>\n",
              "      <th>4</th>\n",
              "      <td>browser</td>\n",
              "    </tr>\n",
              "    <tr>\n",
              "      <th>...</th>\n",
              "      <td>...</td>\n",
              "    </tr>\n",
              "    <tr>\n",
              "      <th>868</th>\n",
              "      <td>solely</td>\n",
              "    </tr>\n",
              "    <tr>\n",
              "      <th>869</th>\n",
              "      <td>their</td>\n",
              "    </tr>\n",
              "    <tr>\n",
              "      <th>870</th>\n",
              "      <td>own</td>\n",
              "    </tr>\n",
              "    <tr>\n",
              "      <th>871</th>\n",
              "      <td>learn</td>\n",
              "    </tr>\n",
              "    <tr>\n",
              "      <th>872</th>\n",
              "      <td>more</td>\n",
              "    </tr>\n",
              "  </tbody>\n",
              "</table>\n",
              "<p>873 rows × 1 columns</p>\n",
              "</div>"
            ],
            "text/plain": [
              "       words\n",
              "0         it\n",
              "1      seems\n",
              "2        the\n",
              "3        web\n",
              "4    browser\n",
              "..       ...\n",
              "868   solely\n",
              "869    their\n",
              "870      own\n",
              "871    learn\n",
              "872   more  \n",
              "\n",
              "[873 rows x 1 columns]"
            ]
          },
          "metadata": {},
          "execution_count": 115
        }
      ]
    },
    {
      "cell_type": "markdown",
      "metadata": {
        "id": "nXew_ZcwjHQu"
      },
      "source": [
        "# **remove stopword **"
      ]
    },
    {
      "cell_type": "code",
      "metadata": {
        "colab": {
          "base_uri": "https://localhost:8080/",
          "height": 417
        },
        "id": "mkMTbu2CjGtP",
        "outputId": "b9abbc8b-859f-4169-b46c-8bd3bbfb17dc"
      },
      "source": [
        "dw=df1['words'].isin(sw['a'])\n",
        "df1.drop(df1[dw].index,inplace=True)\n",
        "# tw=df1.copy()\n",
        "# total_word_after_cleaning=tw['words'].count()\n",
        "# total_word_after_cleaning\n",
        "df1\n"
      ],
      "execution_count": null,
      "outputs": [
        {
          "output_type": "execute_result",
          "data": {
            "text/html": [
              "<div>\n",
              "<style scoped>\n",
              "    .dataframe tbody tr th:only-of-type {\n",
              "        vertical-align: middle;\n",
              "    }\n",
              "\n",
              "    .dataframe tbody tr th {\n",
              "        vertical-align: top;\n",
              "    }\n",
              "\n",
              "    .dataframe thead th {\n",
              "        text-align: right;\n",
              "    }\n",
              "</style>\n",
              "<table border=\"1\" class=\"dataframe\">\n",
              "  <thead>\n",
              "    <tr style=\"text-align: right;\">\n",
              "      <th></th>\n",
              "      <th>words</th>\n",
              "    </tr>\n",
              "  </thead>\n",
              "  <tbody>\n",
              "    <tr>\n",
              "      <th>3</th>\n",
              "      <td>web</td>\n",
              "    </tr>\n",
              "    <tr>\n",
              "      <th>4</th>\n",
              "      <td>browser</td>\n",
              "    </tr>\n",
              "    <tr>\n",
              "      <th>8</th>\n",
              "      <td>support</td>\n",
              "    </tr>\n",
              "    <tr>\n",
              "      <th>12</th>\n",
              "      <td>features</td>\n",
              "    </tr>\n",
              "    <tr>\n",
              "      <th>15</th>\n",
              "      <td>site</td>\n",
              "    </tr>\n",
              "    <tr>\n",
              "      <th>...</th>\n",
              "      <td>...</td>\n",
              "    </tr>\n",
              "    <tr>\n",
              "      <th>863</th>\n",
              "      <td>members</td>\n",
              "    </tr>\n",
              "    <tr>\n",
              "      <th>866</th>\n",
              "      <td>affiliates</td>\n",
              "    </tr>\n",
              "    <tr>\n",
              "      <th>868</th>\n",
              "      <td>solely</td>\n",
              "    </tr>\n",
              "    <tr>\n",
              "      <th>871</th>\n",
              "      <td>learn</td>\n",
              "    </tr>\n",
              "    <tr>\n",
              "      <th>872</th>\n",
              "      <td>more</td>\n",
              "    </tr>\n",
              "  </tbody>\n",
              "</table>\n",
              "<p>420 rows × 1 columns</p>\n",
              "</div>"
            ],
            "text/plain": [
              "          words\n",
              "3           web\n",
              "4       browser\n",
              "8       support\n",
              "12     features\n",
              "15         site\n",
              "..          ...\n",
              "863     members\n",
              "866  affiliates\n",
              "868      solely\n",
              "871       learn\n",
              "872      more  \n",
              "\n",
              "[420 rows x 1 columns]"
            ]
          },
          "metadata": {},
          "execution_count": 116
        }
      ]
    },
    {
      "cell_type": "markdown",
      "metadata": {
        "id": "jLxWNE1TqIuR"
      },
      "source": [
        "postive words\n",
        "\n"
      ]
    },
    {
      "cell_type": "code",
      "metadata": {
        "colab": {
          "base_uri": "https://localhost:8080/",
          "height": 417
        },
        "id": "dY-yqrT9qLNz",
        "outputId": "ea0d62ad-6891-4a26-941d-b2ac0327b9de"
      },
      "source": [
        "pw=pd.read_csv('/content/positive-words.txt')\n",
        "pw"
      ],
      "execution_count": null,
      "outputs": [
        {
          "output_type": "execute_result",
          "data": {
            "text/html": [
              "<div>\n",
              "<style scoped>\n",
              "    .dataframe tbody tr th:only-of-type {\n",
              "        vertical-align: middle;\n",
              "    }\n",
              "\n",
              "    .dataframe tbody tr th {\n",
              "        vertical-align: top;\n",
              "    }\n",
              "\n",
              "    .dataframe thead th {\n",
              "        text-align: right;\n",
              "    }\n",
              "</style>\n",
              "<table border=\"1\" class=\"dataframe\">\n",
              "  <thead>\n",
              "    <tr style=\"text-align: right;\">\n",
              "      <th></th>\n",
              "      <th>Postive Word</th>\n",
              "    </tr>\n",
              "  </thead>\n",
              "  <tbody>\n",
              "    <tr>\n",
              "      <th>0</th>\n",
              "      <td>a+</td>\n",
              "    </tr>\n",
              "    <tr>\n",
              "      <th>1</th>\n",
              "      <td>abound</td>\n",
              "    </tr>\n",
              "    <tr>\n",
              "      <th>2</th>\n",
              "      <td>abounds</td>\n",
              "    </tr>\n",
              "    <tr>\n",
              "      <th>3</th>\n",
              "      <td>abundance</td>\n",
              "    </tr>\n",
              "    <tr>\n",
              "      <th>4</th>\n",
              "      <td>abundant</td>\n",
              "    </tr>\n",
              "    <tr>\n",
              "      <th>...</th>\n",
              "      <td>...</td>\n",
              "    </tr>\n",
              "    <tr>\n",
              "      <th>2001</th>\n",
              "      <td>youthful</td>\n",
              "    </tr>\n",
              "    <tr>\n",
              "      <th>2002</th>\n",
              "      <td>zeal</td>\n",
              "    </tr>\n",
              "    <tr>\n",
              "      <th>2003</th>\n",
              "      <td>zenith</td>\n",
              "    </tr>\n",
              "    <tr>\n",
              "      <th>2004</th>\n",
              "      <td>zest</td>\n",
              "    </tr>\n",
              "    <tr>\n",
              "      <th>2005</th>\n",
              "      <td>zippy</td>\n",
              "    </tr>\n",
              "  </tbody>\n",
              "</table>\n",
              "<p>2006 rows × 1 columns</p>\n",
              "</div>"
            ],
            "text/plain": [
              "     Postive Word\n",
              "0              a+\n",
              "1          abound\n",
              "2         abounds\n",
              "3       abundance\n",
              "4        abundant\n",
              "...           ...\n",
              "2001     youthful\n",
              "2002         zeal\n",
              "2003       zenith\n",
              "2004         zest\n",
              "2005        zippy\n",
              "\n",
              "[2006 rows x 1 columns]"
            ]
          },
          "metadata": {},
          "execution_count": 92
        }
      ]
    },
    {
      "cell_type": "markdown",
      "metadata": {
        "id": "ltk0lzB2np0M"
      },
      "source": [
        "# **total postive words**"
      ]
    },
    {
      "cell_type": "code",
      "metadata": {
        "colab": {
          "base_uri": "https://localhost:8080/"
        },
        "id": "d_IAcInOnpAW",
        "outputId": "b8cedfbf-0303-43b9-c960-f0220fd6f3ac"
      },
      "source": [
        "dw=tw['words'].isin(pw['Postive Word'])\n",
        "tw.drop(tw[dw].index,inplace=True)\n",
        "tpw=tw.copy()\n",
        "postive_score=tpw['words'].count()\n",
        "postive_score"
      ],
      "execution_count": null,
      "outputs": [
        {
          "output_type": "execute_result",
          "data": {
            "text/plain": [
              "385"
            ]
          },
          "metadata": {},
          "execution_count": 93
        }
      ]
    },
    {
      "cell_type": "markdown",
      "metadata": {
        "id": "8sq-6qBI4HVg"
      },
      "source": [
        "# **total negative words**"
      ]
    },
    {
      "cell_type": "code",
      "metadata": {
        "colab": {
          "base_uri": "https://localhost:8080/",
          "height": 417
        },
        "id": "URFCiwg_5tMV",
        "outputId": "374c8dd2-dfa0-4412-bf8a-601a29ff76fe"
      },
      "source": [
        "nw=pd.read_csv('/content/negative-words.txt')\n",
        "nw"
      ],
      "execution_count": null,
      "outputs": [
        {
          "output_type": "execute_result",
          "data": {
            "text/html": [
              "<div>\n",
              "<style scoped>\n",
              "    .dataframe tbody tr th:only-of-type {\n",
              "        vertical-align: middle;\n",
              "    }\n",
              "\n",
              "    .dataframe tbody tr th {\n",
              "        vertical-align: top;\n",
              "    }\n",
              "\n",
              "    .dataframe thead th {\n",
              "        text-align: right;\n",
              "    }\n",
              "</style>\n",
              "<table border=\"1\" class=\"dataframe\">\n",
              "  <thead>\n",
              "    <tr style=\"text-align: right;\">\n",
              "      <th></th>\n",
              "      <th>Negative Words</th>\n",
              "    </tr>\n",
              "  </thead>\n",
              "  <tbody>\n",
              "    <tr>\n",
              "      <th>0</th>\n",
              "      <td>2-faced</td>\n",
              "    </tr>\n",
              "    <tr>\n",
              "      <th>1</th>\n",
              "      <td>2-faces</td>\n",
              "    </tr>\n",
              "    <tr>\n",
              "      <th>2</th>\n",
              "      <td>abnormal</td>\n",
              "    </tr>\n",
              "    <tr>\n",
              "      <th>3</th>\n",
              "      <td>abolish</td>\n",
              "    </tr>\n",
              "    <tr>\n",
              "      <th>4</th>\n",
              "      <td>abominable</td>\n",
              "    </tr>\n",
              "    <tr>\n",
              "      <th>...</th>\n",
              "      <td>...</td>\n",
              "    </tr>\n",
              "    <tr>\n",
              "      <th>4778</th>\n",
              "      <td>zaps</td>\n",
              "    </tr>\n",
              "    <tr>\n",
              "      <th>4779</th>\n",
              "      <td>zealot</td>\n",
              "    </tr>\n",
              "    <tr>\n",
              "      <th>4780</th>\n",
              "      <td>zealous</td>\n",
              "    </tr>\n",
              "    <tr>\n",
              "      <th>4781</th>\n",
              "      <td>zealously</td>\n",
              "    </tr>\n",
              "    <tr>\n",
              "      <th>4782</th>\n",
              "      <td>zombie</td>\n",
              "    </tr>\n",
              "  </tbody>\n",
              "</table>\n",
              "<p>4783 rows × 1 columns</p>\n",
              "</div>"
            ],
            "text/plain": [
              "     Negative Words\n",
              "0           2-faced\n",
              "1           2-faces\n",
              "2          abnormal\n",
              "3           abolish\n",
              "4        abominable\n",
              "...             ...\n",
              "4778           zaps\n",
              "4779         zealot\n",
              "4780        zealous\n",
              "4781      zealously\n",
              "4782         zombie\n",
              "\n",
              "[4783 rows x 1 columns]"
            ]
          },
          "metadata": {},
          "execution_count": 94
        }
      ]
    },
    {
      "cell_type": "code",
      "metadata": {
        "colab": {
          "base_uri": "https://localhost:8080/"
        },
        "id": "I9ctiiMU4MBH",
        "outputId": "de733989-7cc8-43f1-d168-2dc755dc6f6a"
      },
      "source": [
        "dw=tw['words'].isin(nw['Negative Words'])\n",
        "tw.drop(tw[dw].index,inplace=True)\n",
        "tnw=tw.copy()\n",
        "negative_score=tnw['words'].count()\n",
        "negative_score"
      ],
      "execution_count": null,
      "outputs": [
        {
          "output_type": "execute_result",
          "data": {
            "text/plain": [
              "369"
            ]
          },
          "metadata": {},
          "execution_count": 95
        }
      ]
    },
    {
      "cell_type": "markdown",
      "metadata": {
        "id": "aXIURnbk7Pbc"
      },
      "source": [
        "polarity score"
      ]
    },
    {
      "cell_type": "code",
      "metadata": {
        "colab": {
          "base_uri": "https://localhost:8080/"
        },
        "id": "VT3XaRE_7Osd",
        "outputId": "a8b1cbc6-1e5d-4368-b275-2a6c6805dc53"
      },
      "source": [
        "polerity_score=(postive_score-negative_score)/ ((postive_score + negative_score) + 0.000001)\n",
        "polerity_score"
      ],
      "execution_count": null,
      "outputs": [
        {
          "output_type": "execute_result",
          "data": {
            "text/plain": [
              "0.021220159123050187"
            ]
          },
          "metadata": {},
          "execution_count": 96
        }
      ]
    },
    {
      "cell_type": "markdown",
      "metadata": {
        "id": "ErmHKX-79eTM"
      },
      "source": [
        "subjective score"
      ]
    },
    {
      "cell_type": "code",
      "metadata": {
        "colab": {
          "base_uri": "https://localhost:8080/"
        },
        "id": "gYmXnVq69gtC",
        "outputId": "d966fe80-f2cb-4546-8e92-c0a29d660c0b"
      },
      "source": [
        "subjective_score = (postive_score + negative_score)/ ((total_word_after_cleaning) + 0.000001)\n",
        "subjective_score\n"
      ],
      "execution_count": null,
      "outputs": [
        {
          "output_type": "execute_result",
          "data": {
            "text/plain": [
              "1.795238090963719"
            ]
          },
          "metadata": {},
          "execution_count": 97
        }
      ]
    },
    {
      "cell_type": "markdown",
      "metadata": {
        "id": "ygAz0cwP-zVU"
      },
      "source": [
        "Average Sentence Length"
      ]
    },
    {
      "cell_type": "code",
      "metadata": {
        "colab": {
          "base_uri": "https://localhost:8080/"
        },
        "id": "97DgEol5-5Ot",
        "outputId": "a8f5de56-33c8-479a-ba69-5bdbfa33e94e"
      },
      "source": [
        "Average_Sentence_Length=totel_words/totel_sentence\n",
        "Average_Sentence_Length"
      ],
      "execution_count": null,
      "outputs": [
        {
          "output_type": "execute_result",
          "data": {
            "text/plain": [
              "21.825"
            ]
          },
          "metadata": {},
          "execution_count": 98
        }
      ]
    },
    {
      "cell_type": "code",
      "metadata": {
        "colab": {
          "base_uri": "https://localhost:8080/",
          "height": 417
        },
        "id": "90yWd7-zKbFM",
        "outputId": "3a202a67-6013-4bc8-e3e9-f38e7ef2745e"
      },
      "source": [
        "tw['sllable']=tw.applymap(lambda s:s[:-2] if s[-2:] in ['es','ed'] else s)\n",
        "tw['sllable_count']=tw['sllable'].str.count(r'[aeiou]')\n",
        "tw\n",
        "\n"
      ],
      "execution_count": null,
      "outputs": [
        {
          "output_type": "execute_result",
          "data": {
            "text/html": [
              "<div>\n",
              "<style scoped>\n",
              "    .dataframe tbody tr th:only-of-type {\n",
              "        vertical-align: middle;\n",
              "    }\n",
              "\n",
              "    .dataframe tbody tr th {\n",
              "        vertical-align: top;\n",
              "    }\n",
              "\n",
              "    .dataframe thead th {\n",
              "        text-align: right;\n",
              "    }\n",
              "</style>\n",
              "<table border=\"1\" class=\"dataframe\">\n",
              "  <thead>\n",
              "    <tr style=\"text-align: right;\">\n",
              "      <th></th>\n",
              "      <th>words</th>\n",
              "      <th>sllable</th>\n",
              "      <th>sllable_count</th>\n",
              "    </tr>\n",
              "  </thead>\n",
              "  <tbody>\n",
              "    <tr>\n",
              "      <th>3</th>\n",
              "      <td>web</td>\n",
              "      <td>web</td>\n",
              "      <td>1</td>\n",
              "    </tr>\n",
              "    <tr>\n",
              "      <th>4</th>\n",
              "      <td>browser</td>\n",
              "      <td>browser</td>\n",
              "      <td>2</td>\n",
              "    </tr>\n",
              "    <tr>\n",
              "      <th>12</th>\n",
              "      <td>features</td>\n",
              "      <td>featur</td>\n",
              "      <td>3</td>\n",
              "    </tr>\n",
              "    <tr>\n",
              "      <th>15</th>\n",
              "      <td>site</td>\n",
              "      <td>site</td>\n",
              "      <td>2</td>\n",
              "    </tr>\n",
              "    <tr>\n",
              "      <th>19</th>\n",
              "      <td>experience</td>\n",
              "      <td>experience</td>\n",
              "      <td>5</td>\n",
              "    </tr>\n",
              "    <tr>\n",
              "      <th>...</th>\n",
              "      <td>...</td>\n",
              "      <td>...</td>\n",
              "      <td>...</td>\n",
              "    </tr>\n",
              "    <tr>\n",
              "      <th>863</th>\n",
              "      <td>members</td>\n",
              "      <td>members</td>\n",
              "      <td>2</td>\n",
              "    </tr>\n",
              "    <tr>\n",
              "      <th>866</th>\n",
              "      <td>affiliates</td>\n",
              "      <td>affiliat</td>\n",
              "      <td>4</td>\n",
              "    </tr>\n",
              "    <tr>\n",
              "      <th>868</th>\n",
              "      <td>solely</td>\n",
              "      <td>solely</td>\n",
              "      <td>2</td>\n",
              "    </tr>\n",
              "    <tr>\n",
              "      <th>871</th>\n",
              "      <td>learn</td>\n",
              "      <td>learn</td>\n",
              "      <td>2</td>\n",
              "    </tr>\n",
              "    <tr>\n",
              "      <th>872</th>\n",
              "      <td>more</td>\n",
              "      <td>more</td>\n",
              "      <td>2</td>\n",
              "    </tr>\n",
              "  </tbody>\n",
              "</table>\n",
              "<p>369 rows × 3 columns</p>\n",
              "</div>"
            ],
            "text/plain": [
              "          words     sllable  sllable_count\n",
              "3           web         web              1\n",
              "4       browser     browser              2\n",
              "12     features      featur              3\n",
              "15         site        site              2\n",
              "19   experience  experience              5\n",
              "..          ...         ...            ...\n",
              "863     members     members              2\n",
              "866  affiliates    affiliat              4\n",
              "868      solely      solely              2\n",
              "871       learn       learn              2\n",
              "872      more        more                2\n",
              "\n",
              "[369 rows x 3 columns]"
            ]
          },
          "metadata": {},
          "execution_count": 99
        }
      ]
    },
    {
      "cell_type": "markdown",
      "metadata": {
        "id": "AgyjX7A7wyFn"
      },
      "source": [
        "total sllable"
      ]
    },
    {
      "cell_type": "code",
      "metadata": {
        "colab": {
          "base_uri": "https://localhost:8080/"
        },
        "id": "Ao_MYZw4w1Bv",
        "outputId": "67f74f2f-a1ef-4180-9d68-2d3aced96d11"
      },
      "source": [
        "ts=tw['sllable_count'].sum()\n",
        "ts"
      ],
      "execution_count": null,
      "outputs": [
        {
          "output_type": "execute_result",
          "data": {
            "text/plain": [
              "853"
            ]
          },
          "metadata": {},
          "execution_count": 100
        }
      ]
    },
    {
      "cell_type": "markdown",
      "metadata": {
        "id": "Pw5757AHuwH4"
      },
      "source": [
        "no of complex words"
      ]
    },
    {
      "cell_type": "code",
      "metadata": {
        "colab": {
          "base_uri": "https://localhost:8080/"
        },
        "id": "uJGO3Ayityg2",
        "outputId": "324f355e-d68b-436a-c23c-853b87b433e3"
      },
      "source": [
        "tw=tw[tw['sllable_count']>2]\n",
        "complex_words=tw['sllable_count'].count()\n",
        "complex_words"
      ],
      "execution_count": null,
      "outputs": [
        {
          "output_type": "execute_result",
          "data": {
            "text/plain": [
              "119"
            ]
          },
          "metadata": {},
          "execution_count": 101
        }
      ]
    },
    {
      "cell_type": "markdown",
      "metadata": {
        "id": "BNMrivXyu0tF"
      },
      "source": [
        "# **percentage of complex words**"
      ]
    },
    {
      "cell_type": "code",
      "metadata": {
        "colab": {
          "base_uri": "https://localhost:8080/"
        },
        "id": "oyNL5qRlu6p2",
        "outputId": "bf92dc45-5b5a-4b30-c1aa-722feca5e837"
      },
      "source": [
        "percentage_comp_word=complex_words/total_word_after_cleaning\n",
        "percentage_comp_word"
      ],
      "execution_count": null,
      "outputs": [
        {
          "output_type": "execute_result",
          "data": {
            "text/plain": [
              "0.2833333333333333"
            ]
          },
          "metadata": {},
          "execution_count": 102
        }
      ]
    },
    {
      "cell_type": "markdown",
      "metadata": {
        "id": "hDqRqaxCvgZ2"
      },
      "source": [
        "# **Fog Index**"
      ]
    },
    {
      "cell_type": "code",
      "metadata": {
        "colab": {
          "base_uri": "https://localhost:8080/"
        },
        "id": "-fUYNakhvkO-",
        "outputId": "bbd3ea4a-980f-48ff-d2f8-9d1a9a91844e"
      },
      "source": [
        "Fog_Index=0.4*(Average_Sentence_Length+percentage_comp_word)\n",
        "Fog_Index"
      ],
      "execution_count": null,
      "outputs": [
        {
          "output_type": "execute_result",
          "data": {
            "text/plain": [
              "8.843333333333334"
            ]
          },
          "metadata": {},
          "execution_count": 103
        }
      ]
    },
    {
      "cell_type": "markdown",
      "metadata": {
        "id": "IVL-EhHCwreH"
      },
      "source": [
        "# **sllable count per word**"
      ]
    },
    {
      "cell_type": "code",
      "metadata": {
        "colab": {
          "base_uri": "https://localhost:8080/"
        },
        "id": "MuqDDURzydTe",
        "outputId": "637d29ea-9224-49d2-855a-70a047f137f5"
      },
      "source": [
        "scpw=ts/total_word_after_cleaning\n",
        "scpw"
      ],
      "execution_count": null,
      "outputs": [
        {
          "output_type": "execute_result",
          "data": {
            "text/plain": [
              "2.030952380952381"
            ]
          },
          "metadata": {},
          "execution_count": 104
        }
      ]
    },
    {
      "cell_type": "markdown",
      "metadata": {
        "id": "zd4MzHSrzbno"
      },
      "source": [
        "I\n",
        "he\n",
        "him\n",
        "her\n",
        "it\n",
        "me\n",
        "she\n",
        "them\n",
        "they\n",
        "us\n",
        "we\n",
        "you"
      ]
    },
    {
      "cell_type": "markdown",
      "metadata": {
        "id": "Xivt9Hoezizx"
      },
      "source": [
        "count prsonal pronoun "
      ]
    },
    {
      "cell_type": "code",
      "metadata": {
        "colab": {
          "base_uri": "https://localhost:8080/"
        },
        "id": "qHX5l57OzvGb",
        "outputId": "d76f0383-b15d-4ddb-ee40-1a76c0221f97"
      },
      "source": [
        "no_of_pronoun=0\n",
        "for i in aw['words']:\n",
        "  if i in ['I', 'he', 'him', 'her' ,'it' ,'me', 'she', 'them' ,'they' ,'us', 'we' ,'you']:\n",
        "    no_of_pronoun+=1\n",
        "print('total prounoun :-',no_of_pronoun)"
      ],
      "execution_count": null,
      "outputs": [
        {
          "output_type": "stream",
          "name": "stdout",
          "text": [
            "total prounoun :- 51\n"
          ]
        }
      ]
    },
    {
      "cell_type": "markdown",
      "metadata": {
        "id": "PNujsJULP-W1"
      },
      "source": [
        "character in each word"
      ]
    },
    {
      "cell_type": "code",
      "metadata": {
        "colab": {
          "base_uri": "https://localhost:8080/"
        },
        "id": "MTRWa_DzQBWT",
        "outputId": "0199267d-70f2-46d4-e6bb-bb5cf5313cb4"
      },
      "source": [
        "aw['len']=aw.applymap(lambda x:len(x))\n",
        "total_character=aw['len'].sum()\n",
        "total_character"
      ],
      "execution_count": null,
      "outputs": [
        {
          "output_type": "execute_result",
          "data": {
            "text/plain": [
              "4050"
            ]
          },
          "metadata": {},
          "execution_count": 128
        }
      ]
    },
    {
      "cell_type": "markdown",
      "metadata": {
        "id": "euswgBobRAuU"
      },
      "source": [
        "average word length"
      ]
    },
    {
      "cell_type": "code",
      "metadata": {
        "id": "Nx5eQvFz0iVq",
        "colab": {
          "base_uri": "https://localhost:8080/"
        },
        "outputId": "e301fe68-e15c-4164-9b08-8dc9e32772df"
      },
      "source": [
        "average_word_length=total_character/totel_words\n",
        "average_word_length"
      ],
      "execution_count": null,
      "outputs": [
        {
          "output_type": "execute_result",
          "data": {
            "text/plain": [
              "4.639175257731959"
            ]
          },
          "metadata": {},
          "execution_count": 131
        }
      ]
    }
  ]
}